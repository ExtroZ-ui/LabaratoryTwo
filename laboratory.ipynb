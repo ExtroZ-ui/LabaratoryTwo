{
 "cells": [
  {
   "cell_type": "code",
   "execution_count": 6,
   "metadata": {},
   "outputs": [
    {
     "name": "stdout",
     "output_type": "stream",
     "text": [
      "\n",
      "Общая стоимость покупок в каждом магазине:\n",
      "Магнит: 329.00 руб.\n",
      "Лента: 325.00 руб.\n",
      "Чижик : 320.00 руб.\n",
      "\n",
      "Вы можете сэкономить больше всего в магазине 'Чижик ' - 320.00 руб.\n"
     ]
    }
   ],
   "source": [
    "# Функция для ввода списка товаров\n",
    "def get_products():\n",
    "    products = []\n",
    "    num_products = int(input(\"Введите количество товаров, которые вы хотите купить: \"))\n",
    "    for _ in range(num_products):\n",
    "        product = input(\"Введите название товара: \")\n",
    "        products.append(product)\n",
    "    return products\n",
    "\n",
    "# Функция для ввода цен на товары в разных магазинах\n",
    "def get_prices(products):\n",
    "    stores = {}\n",
    "    num_stores = int(input(\"Введите количество магазинов: \"))\n",
    "    for _ in range(num_stores):\n",
    "        store_name = input(\"\\nВведите название магазина: \")\n",
    "        store_prices = {}\n",
    "        for product in products:\n",
    "            price = float(input(f\"Введите цену на '{product}' в магазине '{store_name}': \"))\n",
    "            store_prices[product] = price\n",
    "        stores[store_name] = store_prices\n",
    "    return stores\n",
    "\n",
    "# Функция для подсчета общей стоимости покупок в каждом магазине\n",
    "def calculate_total_prices(products, stores):\n",
    "    total_prices = {}\n",
    "    for store, prices in stores.items():\n",
    "        total_price = sum(prices[product] for product in products)\n",
    "        total_prices[store] = total_price\n",
    "    return total_prices\n",
    "\n",
    "# Функция для поиска магазина с минимальной стоимостью покупок\n",
    "def find_cheapest_store(total_prices):\n",
    "    cheapest_store = min(total_prices, key=total_prices.get)\n",
    "    return cheapest_store, total_prices[cheapest_store]\n",
    "\n",
    "def main():\n",
    "    products = get_products()\n",
    "    stores = get_prices(products)\n",
    "    total_prices = calculate_total_prices(products, stores)\n",
    "\n",
    "    # Выводим результаты\n",
    "    print(\"\\nОбщая стоимость покупок в каждом магазине:\")\n",
    "    for store, total_price in total_prices.items():\n",
    "        print(f\"{store}: {total_price:.2f} руб.\")\n",
    "\n",
    "    # Ищем магазин, где можно сэкономить больше всего\n",
    "    cheapest_store, cheapest_price = find_cheapest_store(total_prices)\n",
    "    print(f\"\\nВы можете сэкономить больше всего в магазине '{cheapest_store}' - {cheapest_price:.2f} руб.\")\n",
    "\n",
    "# Запуск программы\n",
    "if __name__ == \"__main__\":\n",
    "    main()"
   ]
  }
 ],
 "metadata": {
  "kernelspec": {
   "display_name": "Python 3",
   "language": "python",
   "name": "python3"
  },
  "language_info": {
   "codemirror_mode": {
    "name": "ipython",
    "version": 3
   },
   "file_extension": ".py",
   "mimetype": "text/x-python",
   "name": "python",
   "nbconvert_exporter": "python",
   "pygments_lexer": "ipython3",
   "version": "3.12.6"
  }
 },
 "nbformat": 4,
 "nbformat_minor": 2
}
